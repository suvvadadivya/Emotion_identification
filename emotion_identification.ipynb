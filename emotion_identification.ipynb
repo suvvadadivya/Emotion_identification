{
  "nbformat": 4,
  "nbformat_minor": 0,
  "metadata": {
    "colab": {
      "name": "emotion_identification.ipynb",
      "provenance": [],
      "collapsed_sections": []
    },
    "kernelspec": {
      "name": "python3",
      "display_name": "Python 3"
    },
    "language_info": {
      "name": "python"
    }
  },
  "cells": [
    {
      "cell_type": "markdown",
      "source": [
        "Speech Emotion Identification\n",
        "\n",
        "Done by:\n",
        "\n",
        "S. Divya\n",
        "\n",
        "19251A05B5\n",
        "\n",
        "GNITS"
      ],
      "metadata": {
        "id": "TveYzCV-a59L"
      }
    },
    {
      "cell_type": "markdown",
      "source": [
        "**Import required libraries**"
      ],
      "metadata": {
        "id": "7ggGNRFPb32U"
      }
    },
    {
      "cell_type": "code",
      "execution_count": null,
      "metadata": {
        "id": "DMLPAgpCrP4i"
      },
      "outputs": [],
      "source": [
        "import librosa\n",
        "import soundfile\n",
        "import pandas as pd\n",
        "import os, glob, pickle\n",
        "import numpy as np\n",
        "from tqdm import tqdm\n",
        "from scipy.io import wavfile\n",
        "import matplotlib.pyplot as plt\n",
        "from sklearn.model_selection import train_test_split\n",
        "from sklearn.neural_network import MLPClassifier\n",
        "from sklearn.metrics import accuracy_score"
      ]
    },
    {
      "cell_type": "markdown",
      "source": [
        "**Mount the dataset file for importing the dataset**"
      ],
      "metadata": {
        "id": "OU3TWEveb-0F"
      }
    },
    {
      "cell_type": "code",
      "source": [
        "from google.colab import drive\n",
        "drive.mount('/content/drive')"
      ],
      "metadata": {
        "colab": {
          "base_uri": "https://localhost:8080/"
        },
        "id": "11NIwNS0rotj",
        "outputId": "7aeed0db-a841-4bb0-c339-bd21f92e4db1"
      },
      "execution_count": null,
      "outputs": [
        {
          "output_type": "stream",
          "name": "stdout",
          "text": [
            "Mounted at /content/drive\n"
          ]
        }
      ]
    },
    {
      "cell_type": "markdown",
      "source": [
        "**Loading the Dataset (Ravdess)**"
      ],
      "metadata": {
        "id": "98JSdX0xcbFw"
      }
    },
    {
      "cell_type": "code",
      "source": [
        "os.listdir(path='drive/MyDrive/dataset')\n",
        "def getListOfFiles(dirName):\n",
        "    listOfFile=os.listdir(dirName)\n",
        "    allFiles=list()\n",
        "    for entry in listOfFile:\n",
        "        fullPath=os.path.join(dirName, entry)\n",
        "        if os.path.isdir(fullPath):\n",
        "            allFiles=allFiles + getListOfFiles(fullPath)\n",
        "        else:\n",
        "            allFiles.append(fullPath)\n",
        "    return allFiles\n",
        "\n",
        "dirName = 'drive/MyDrive/dataset'\n",
        "listOfFiles = getListOfFiles(dirName)\n",
        "len(listOfFiles)"
      ],
      "metadata": {
        "colab": {
          "base_uri": "https://localhost:8080/"
        },
        "id": "QURoCT35rnU5",
        "outputId": "36ccc690-0b84-4fcc-9312-255df0516eb3"
      },
      "execution_count": null,
      "outputs": [
        {
          "output_type": "execute_result",
          "data": {
            "text/plain": [
              "1569"
            ]
          },
          "metadata": {},
          "execution_count": 5
        }
      ]
    },
    {
      "cell_type": "markdown",
      "source": [
        "**Cleaning the dataset**"
      ],
      "metadata": {
        "id": "Ke0JQi0PcmBB"
      }
    },
    {
      "cell_type": "markdown",
      "source": [
        "DOWN SAMPLING OF AUDIO FILES IS DONE AND PUT MASK OVER IT AND DIRECT INTO CLEAN FOLDER\n",
        "MASK IS TO REMOVE UNNECESSARY EMPTY VOIDES AROUND THE MAIN AUDIO VOICE"
      ],
      "metadata": {
        "id": "7nIcK2i_c_By"
      }
    },
    {
      "cell_type": "code",
      "source": [
        "def envelope(y , rate, threshold):\n",
        "    mask=[]\n",
        "    y=pd.Series(y).apply(np.abs)\n",
        "    y_mean = y.rolling(window=int(rate/10) ,  min_periods=1 , center = True).mean()\n",
        "    for mean in y_mean:\n",
        "        if mean>threshold:\n",
        "            mask.append(True)\n",
        "        else:\n",
        "            mask.append(False)\n",
        "    return mask"
      ],
      "metadata": {
        "id": "BYfXfcgTr9LY"
      },
      "execution_count": null,
      "outputs": []
    },
    {
      "cell_type": "markdown",
      "source": [
        "**Extract features (mfcc, chroma, mel) from a sound file**"
      ],
      "metadata": {
        "id": "lqRVOLG5dEBh"
      }
    },
    {
      "cell_type": "code",
      "source": [
        "def extract_feature(file_name, mfcc, chroma, mel):\n",
        "    with soundfile.SoundFile(file_name) as sound_file:\n",
        "        X = sound_file.read(dtype=\"float32\")\n",
        "        sample_rate=sound_file.samplerate\n",
        "        if chroma:\n",
        "            stft=np.abs(librosa.stft(X))\n",
        "        result=np.array([])\n",
        "        if mfcc:\n",
        "            mfccs=np.mean(librosa.feature.mfcc(y=X, sr=sample_rate, n_mfcc=40).T, axis=0)\n",
        "        result=np.hstack((result, mfccs))\n",
        "        if chroma:\n",
        "            chroma=np.mean(librosa.feature.chroma_stft(S=stft, sr=sample_rate).T,axis=0)\n",
        "        result=np.hstack((result, chroma))\n",
        "        if mel:\n",
        "            mel=np.mean(librosa.feature.melspectrogram(X, sr=sample_rate).T,axis=0)\n",
        "        result=np.hstack((result, mel))\n",
        "    return result"
      ],
      "metadata": {
        "id": "SLBhJUOdsfMx"
      },
      "execution_count": null,
      "outputs": []
    },
    {
      "cell_type": "markdown",
      "source": [
        "Emotions in the dataset"
      ],
      "metadata": {
        "id": "GzzUYDvadLZ7"
      }
    },
    {
      "cell_type": "code",
      "source": [
        "emotions={\n",
        "  '01':'neutral',\n",
        "  '02':'calm',\n",
        "  '03':'happy',\n",
        "  '04':'sad',\n",
        "  '05':'angry',\n",
        "  '06':'fearful',\n",
        "  '07':'disgust',\n",
        "  '08':'surprised'\n",
        "}\n",
        "#These are the emotions User wants to observe more :\n",
        "observed_emotions=['calm', 'happy', 'angry', 'disgust']"
      ],
      "metadata": {
        "id": "m9wM3yzpsnd0"
      },
      "execution_count": null,
      "outputs": []
    },
    {
      "cell_type": "markdown",
      "source": [
        " **Loading the clean data and extracting the data from it**"
      ],
      "metadata": {
        "id": "9iac6IwUdQIQ"
      }
    },
    {
      "cell_type": "code",
      "source": [
        "from glob import glob\n",
        "import os\n",
        "import glob\n",
        "def load_data(test_size=0.33):\n",
        "    x,y=[],[]\n",
        "    answer = 0\n",
        "    for file in glob.glob('drive/MyDrive/dataset//Actor_*//*.wav'):\n",
        "        file_name=os.path.basename(file)\n",
        "        emotion=emotions[file_name.split(\"-\")[2]]\n",
        "        if emotion not in observed_emotions:\n",
        "            answer += 1\n",
        "            continue\n",
        "        feature=extract_feature(file, mfcc=True, chroma=True, mel=True)\n",
        "        x.append(feature)\n",
        "        y.append([emotion,file_name])\n",
        "    return train_test_split(np.array(x), y, test_size=test_size, random_state=0)"
      ],
      "metadata": {
        "id": "zRtRosffssdA"
      },
      "execution_count": null,
      "outputs": []
    },
    {
      "cell_type": "markdown",
      "source": [
        "**Splitting the dataset into test and trial data**"
      ],
      "metadata": {
        "id": "7Jji0F5ZdbGZ"
      }
    },
    {
      "cell_type": "code",
      "source": [
        "x_train,x_test,y_train,y_test=load_data(test_size=0.25)\n",
        "print(np.shape(x_train),np.shape(x_test), np.shape(y_train),np.shape(y_test))\n",
        "y_test_map = np.array(y_test).T\n",
        "y_test = y_test_map[0]\n",
        "test_filename = y_test_map[1]\n",
        "y_train_map = np.array(y_train).T\n",
        "y_train = y_train_map[0]\n",
        "train_filename = y_train_map[1]\n",
        "print(np.shape(y_train),np.shape(y_test))\n",
        "print(*test_filename,sep=\"\\n\")"
      ],
      "metadata": {
        "colab": {
          "base_uri": "https://localhost:8080/"
        },
        "id": "clhkc5fOs3rl",
        "outputId": "2ebfe630-2b3c-4bb5-e235-334879a99dea"
      },
      "execution_count": null,
      "outputs": [
        {
          "output_type": "stream",
          "name": "stdout",
          "text": [
            "(576, 180) (192, 180) (576, 2) (192, 2)\n",
            "(576,) (192,)\n",
            "03-01-03-01-01-01-01.wav\n",
            "03-01-07-01-02-01-22.wav\n",
            "03-01-02-01-02-02-22.wav\n",
            "03-01-05-01-02-02-19.wav\n",
            "03-01-07-01-02-01-05.wav\n",
            "03-01-05-01-02-02-22.wav\n",
            "03-01-03-01-02-01-14.wav\n",
            "03-01-07-02-02-02-06.wav\n",
            "03-01-03-02-01-01-11.wav\n",
            "03-01-07-01-02-01-21.wav\n",
            "03-01-07-02-01-02-19.wav\n",
            "03-01-03-01-01-01-12.wav\n",
            "03-01-07-01-01-01-23.wav\n",
            "03-01-05-01-01-02-06.wav\n",
            "03-01-02-02-01-02-03.wav\n",
            "03-01-07-02-01-02-21.wav\n",
            "03-01-03-02-01-02-17.wav\n",
            "03-01-05-02-02-01-18.wav\n",
            "03-01-05-01-01-02-07.wav\n",
            "03-01-07-01-01-02-13.wav\n",
            "03-01-02-02-01-02-08.wav\n",
            "03-01-02-01-02-01-06.wav\n",
            "03-01-02-02-01-02-17.wav\n",
            "03-01-07-02-02-01-13.wav\n",
            "03-01-07-01-02-01-19.wav\n",
            "03-01-02-02-02-02-06.wav\n",
            "03-01-02-02-01-01-15.wav\n",
            "03-01-02-01-02-02-03.wav\n",
            "03-01-02-01-02-02-24.wav\n",
            "03-01-03-01-01-02-10.wav\n",
            "03-01-07-02-02-01-23.wav\n",
            "03-01-02-02-02-01-08.wav\n",
            "03-01-05-01-02-02-01.wav\n",
            "03-01-07-02-01-01-13.wav\n",
            "03-01-05-01-01-01-11.wav\n",
            "03-01-02-01-02-02-11.wav\n",
            "03-01-02-01-01-01-01.wav\n",
            "03-01-07-01-02-02-10.wav\n",
            "03-01-07-01-02-01-12.wav\n",
            "03-01-02-02-01-01-18.wav\n",
            "03-01-07-02-02-02-17.wav\n",
            "03-01-03-02-02-01-13.wav\n",
            "03-01-05-01-01-02-12.wav\n",
            "03-01-03-01-02-01-11.wav\n",
            "03-01-02-01-01-01-19.wav\n",
            "03-01-03-02-02-01-20.wav\n",
            "03-01-05-02-02-01-23.wav\n",
            "03-01-02-01-02-02-08.wav\n",
            "03-01-07-02-01-01-21.wav\n",
            "03-01-02-02-01-01-02.wav\n",
            "03-01-02-01-01-01-06.wav\n",
            "03-01-05-01-02-02-20.wav\n",
            "03-01-05-02-02-02-21.wav\n",
            "03-01-05-02-02-01-03.wav\n",
            "03-01-03-01-01-01-07.wav\n",
            "03-01-03-02-01-01-24.wav\n",
            "03-01-03-01-02-02-19.wav\n",
            "03-01-07-02-02-02-16.wav\n",
            "03-01-05-02-02-01-07.wav\n",
            "03-01-02-02-02-02-04.wav\n",
            "03-01-05-02-02-02-01.wav\n",
            "03-01-07-02-01-02-13.wav\n",
            "03-01-05-01-01-01-09.wav\n",
            "03-01-03-01-01-02-23.wav\n",
            "03-01-05-01-01-02-16.wav\n",
            "03-01-07-02-02-01-11.wav\n",
            "03-01-07-01-02-02-13.wav\n",
            "03-01-03-01-01-01-23.wav\n",
            "03-01-03-01-01-01-15.wav\n",
            "03-01-05-01-02-02-11.wav\n",
            "03-01-05-02-01-02-09.wav\n",
            "03-01-05-02-02-01-21.wav\n",
            "03-01-05-02-01-02-15.wav\n",
            "03-01-02-01-02-02-09.wav\n",
            "03-01-02-02-01-02-15.wav\n",
            "03-01-07-02-01-02-14.wav\n",
            "03-01-05-02-01-02-02.wav\n",
            "03-01-07-01-01-01-10.wav\n",
            "03-01-05-01-02-02-04.wav\n",
            "03-01-02-01-01-01-12.wav\n",
            "03-01-03-02-01-02-06.wav\n",
            "03-01-05-02-02-01-20.wav\n",
            "03-01-07-01-02-02-24.wav\n",
            "03-01-05-02-01-02-05.wav\n",
            "03-01-05-02-02-01-04.wav\n",
            "03-01-03-02-02-02-14.wav\n",
            "03-01-03-02-02-01-15.wav\n",
            "03-01-02-01-01-02-19.wav\n",
            "03-01-03-01-02-02-15.wav\n",
            "03-01-02-02-01-02-09.wav\n",
            "03-01-07-01-01-02-06.wav\n",
            "03-01-03-01-02-01-15.wav\n",
            "03-01-07-01-01-01-16.wav\n",
            "03-01-05-02-01-01-18.wav\n",
            "03-01-05-02-02-02-12.wav\n",
            "03-01-07-01-02-02-12.wav\n",
            "03-01-05-01-01-02-09.wav\n",
            "03-01-02-01-01-02-09.wav\n",
            "03-01-05-01-01-02-18.wav\n",
            "03-01-02-02-01-01-11.wav\n",
            "03-01-02-01-02-01-17.wav\n",
            "03-01-02-01-02-01-20.wav\n",
            "03-01-03-02-02-02-19.wav\n",
            "03-01-02-02-01-01-24.wav\n",
            "03-01-07-02-01-02-23.wav\n",
            "03-01-03-01-01-01-08.wav\n",
            "03-01-02-02-02-01-03.wav\n",
            "03-01-07-01-01-01-07.wav\n",
            "03-01-07-01-02-01-16.wav\n",
            "03-01-05-02-01-02-19.wav\n",
            "03-01-07-02-02-01-03.wav\n",
            "03-01-03-01-01-02-21.wav\n",
            "03-01-03-02-02-02-06.wav\n",
            "03-01-05-02-01-02-17.wav\n",
            "03-01-07-02-01-01-11.wav\n",
            "03-01-07-02-01-01-23.wav\n",
            "03-01-05-02-01-01-23.wav\n",
            "03-01-02-01-01-02-23.wav\n",
            "03-01-02-01-02-02-15.wav\n",
            "03-01-03-02-02-02-03.wav\n",
            "03-01-07-02-01-01-04.wav\n",
            "03-01-05-01-01-01-13.wav\n",
            "03-01-07-02-02-01-16.wav\n",
            "03-01-02-01-02-02-06.wav\n",
            "03-01-07-01-02-02-11.wav\n",
            "03-01-05-01-01-01-02.wav\n",
            "03-01-07-02-01-02-02.wav\n",
            "03-01-03-02-02-01-11.wav\n",
            "03-01-03-02-02-01-07.wav\n",
            "03-01-07-02-02-01-04.wav\n",
            "03-01-02-02-01-02-24.wav\n",
            "03-01-03-01-02-02-18.wav\n",
            "03-01-02-01-02-02-21.wav\n",
            "03-01-07-01-02-01-11.wav\n",
            "03-01-05-02-01-02-10.wav\n",
            "03-01-02-02-01-02-18.wav\n",
            "03-01-05-02-01-01-02.wav\n",
            "03-01-05-01-02-01-18.wav\n",
            "03-01-02-02-02-01-23.wav\n",
            "03-01-02-01-01-02-01.wav\n",
            "03-01-03-01-02-02-14.wav\n",
            "03-01-02-01-01-02-12.wav\n",
            "03-01-02-01-02-01-21.wav\n",
            "03-01-03-01-02-01-24.wav\n",
            "03-01-02-02-02-02-24.wav\n",
            "03-01-07-01-01-01-01.wav\n",
            "03-01-05-01-01-01-18.wav\n",
            "03-01-03-01-02-02-16.wav\n",
            "03-01-02-01-01-01-08.wav\n",
            "03-01-05-01-01-01-07.wav\n",
            "03-01-03-02-01-01-10.wav\n",
            "03-01-05-01-02-01-15.wav\n",
            "03-01-05-02-01-01-05.wav\n",
            "03-01-03-01-01-01-13.wav\n",
            "03-01-07-02-01-01-06.wav\n",
            "03-01-03-01-01-01-22.wav\n",
            "03-01-07-01-02-02-15.wav\n",
            "03-01-02-02-01-01-20.wav\n",
            "03-01-05-01-02-02-07.wav\n",
            "03-01-02-02-01-01-21.wav\n",
            "03-01-03-02-02-01-16.wav\n",
            "03-01-05-02-01-02-16.wav\n",
            "03-01-07-02-02-02-22.wav\n",
            "03-01-05-01-01-01-05.wav\n",
            "03-01-05-01-02-01-14.wav\n",
            "03-01-03-02-02-01-09.wav\n",
            "03-01-02-01-02-01-05.wav\n",
            "03-01-07-02-02-02-09.wav\n",
            "03-01-03-01-02-01-05.wav\n",
            "03-01-05-01-02-01-05.wav\n",
            "03-01-05-01-02-01-06.wav\n",
            "03-01-02-02-01-02-07.wav\n",
            "03-01-03-02-01-02-19.wav\n",
            "03-01-02-02-01-01-03.wav\n",
            "03-01-07-01-01-02-23.wav\n",
            "03-01-05-02-02-01-15.wav\n",
            "03-01-07-01-01-02-14.wav\n",
            "03-01-07-01-01-02-16.wav\n",
            "03-01-02-02-02-01-04.wav\n",
            "03-01-05-02-02-02-15.wav\n",
            "03-01-02-02-02-01-17.wav\n",
            "03-01-02-02-01-02-02.wav\n",
            "03-01-03-02-01-02-10.wav\n",
            "03-01-02-02-02-01-18.wav\n",
            "03-01-02-01-01-01-03.wav\n",
            "03-01-05-02-01-02-18.wav\n",
            "03-01-02-02-02-01-24.wav\n",
            "03-01-02-02-02-02-13.wav\n",
            "03-01-05-01-01-01-16.wav\n",
            "03-01-05-01-01-02-13.wav\n",
            "03-01-03-02-01-02-20.wav\n",
            "03-01-03-01-01-02-07.wav\n"
          ]
        }
      ]
    },
    {
      "cell_type": "markdown",
      "source": [
        "**Initialize the Multi Layer Perceptron Classifier**"
      ],
      "metadata": {
        "id": "RWbanWZmdkZV"
      }
    },
    {
      "cell_type": "code",
      "source": [
        "model=MLPClassifier(alpha=0.01, batch_size=256, epsilon=1e-08, hidden_layer_sizes=(300,), learning_rate='adaptive', max_iter=500)"
      ],
      "metadata": {
        "id": "2j98A8oltwZJ"
      },
      "execution_count": null,
      "outputs": []
    },
    {
      "cell_type": "markdown",
      "source": [
        "**Train the model**"
      ],
      "metadata": {
        "id": "Thpu8hqudol_"
      }
    },
    {
      "cell_type": "code",
      "source": [
        "model.fit(x_train,y_train)"
      ],
      "metadata": {
        "colab": {
          "base_uri": "https://localhost:8080/"
        },
        "id": "2tFNixVzt44z",
        "outputId": "d20b18f4-63c8-4c7c-ec44-2858938f8511"
      },
      "execution_count": null,
      "outputs": [
        {
          "output_type": "execute_result",
          "data": {
            "text/plain": [
              "MLPClassifier(alpha=0.01, batch_size=256, hidden_layer_sizes=(300,),\n",
              "              learning_rate='adaptive', max_iter=500)"
            ]
          },
          "metadata": {},
          "execution_count": 12
        }
      ]
    },
    {
      "cell_type": "markdown",
      "source": [
        "**Predicting the y_test values using the loaded Model**"
      ],
      "metadata": {
        "id": "hXNjIaBUdxai"
      }
    },
    {
      "cell_type": "code",
      "source": [
        "y_pred = model.predict(x_test)\n",
        "accuracy = accuracy_score(y_true=y_test, y_pred=y_pred)\n",
        "print(\"Accuracy of the Recognizer is: {:.1f}%\".format(accuracy*100))\n"
      ],
      "metadata": {
        "colab": {
          "base_uri": "https://localhost:8080/"
        },
        "id": "jgyi9VobvT7Y",
        "outputId": "1fc50c4a-4c78-4c82-b68c-a7a12421b937"
      },
      "execution_count": null,
      "outputs": [
        {
          "output_type": "stream",
          "name": "stdout",
          "text": [
            "Accuracy of the Recognizer is: 68.2%\n"
          ]
        }
      ]
    },
    {
      "cell_type": "markdown",
      "source": [
        "**Saving the predictions in a .csv file**"
      ],
      "metadata": {
        "id": "kKmHhX6ld5AY"
      }
    },
    {
      "cell_type": "code",
      "source": [
        "import pandas as pd\n",
        "y_pred1 = pd.DataFrame(y_pred , columns=['Predictions'])\n",
        "y_pred1['Name of Files'] = test_filename\n",
        "print(y_pred1)\n",
        "y_pred1.to_csv('FinalPredictions.csv')"
      ],
      "metadata": {
        "colab": {
          "base_uri": "https://localhost:8080/"
        },
        "id": "ldF_yJEHvb2e",
        "outputId": "23920842-027d-4fb6-b951-0ca2f677c8cf"
      },
      "execution_count": null,
      "outputs": [
        {
          "output_type": "stream",
          "name": "stdout",
          "text": [
            "    Predictions             Name of Files\n",
            "0         angry  03-01-03-01-01-01-01.wav\n",
            "1         happy  03-01-07-01-02-01-22.wav\n",
            "2          calm  03-01-02-01-02-02-22.wav\n",
            "3         angry  03-01-05-01-02-02-19.wav\n",
            "4          calm  03-01-07-01-02-01-05.wav\n",
            "..          ...                       ...\n",
            "187        calm  03-01-02-02-02-02-13.wav\n",
            "188       angry  03-01-05-01-01-01-16.wav\n",
            "189       angry  03-01-05-01-01-02-13.wav\n",
            "190       happy  03-01-03-02-01-02-20.wav\n",
            "191     disgust  03-01-03-01-01-02-07.wav\n",
            "\n",
            "[192 rows x 2 columns]\n"
          ]
        }
      ]
    },
    {
      "cell_type": "code",
      "source": [
        "y_pred1[:10]"
      ],
      "metadata": {
        "colab": {
          "base_uri": "https://localhost:8080/",
          "height": 363
        },
        "id": "Q6xR3VnxvfVA",
        "outputId": "c10c1353-39a6-4a5b-bf4f-5f3186cf4702"
      },
      "execution_count": null,
      "outputs": [
        {
          "output_type": "execute_result",
          "data": {
            "text/plain": [
              "  Predictions             Name of Files\n",
              "0       angry  03-01-03-01-01-01-01.wav\n",
              "1       happy  03-01-07-01-02-01-22.wav\n",
              "2        calm  03-01-02-01-02-02-22.wav\n",
              "3       angry  03-01-05-01-02-02-19.wav\n",
              "4        calm  03-01-07-01-02-01-05.wav\n",
              "5       angry  03-01-05-01-02-02-22.wav\n",
              "6       happy  03-01-03-01-02-01-14.wav\n",
              "7     disgust  03-01-07-02-02-02-06.wav\n",
              "8       angry  03-01-03-02-01-01-11.wav\n",
              "9     disgust  03-01-07-01-02-01-21.wav"
            ],
            "text/html": [
              "\n",
              "  <div id=\"df-0300ee90-43c7-4bf2-8d8e-c7098953637c\">\n",
              "    <div class=\"colab-df-container\">\n",
              "      <div>\n",
              "<style scoped>\n",
              "    .dataframe tbody tr th:only-of-type {\n",
              "        vertical-align: middle;\n",
              "    }\n",
              "\n",
              "    .dataframe tbody tr th {\n",
              "        vertical-align: top;\n",
              "    }\n",
              "\n",
              "    .dataframe thead th {\n",
              "        text-align: right;\n",
              "    }\n",
              "</style>\n",
              "<table border=\"1\" class=\"dataframe\">\n",
              "  <thead>\n",
              "    <tr style=\"text-align: right;\">\n",
              "      <th></th>\n",
              "      <th>Predictions</th>\n",
              "      <th>Name of Files</th>\n",
              "    </tr>\n",
              "  </thead>\n",
              "  <tbody>\n",
              "    <tr>\n",
              "      <th>0</th>\n",
              "      <td>angry</td>\n",
              "      <td>03-01-03-01-01-01-01.wav</td>\n",
              "    </tr>\n",
              "    <tr>\n",
              "      <th>1</th>\n",
              "      <td>happy</td>\n",
              "      <td>03-01-07-01-02-01-22.wav</td>\n",
              "    </tr>\n",
              "    <tr>\n",
              "      <th>2</th>\n",
              "      <td>calm</td>\n",
              "      <td>03-01-02-01-02-02-22.wav</td>\n",
              "    </tr>\n",
              "    <tr>\n",
              "      <th>3</th>\n",
              "      <td>angry</td>\n",
              "      <td>03-01-05-01-02-02-19.wav</td>\n",
              "    </tr>\n",
              "    <tr>\n",
              "      <th>4</th>\n",
              "      <td>calm</td>\n",
              "      <td>03-01-07-01-02-01-05.wav</td>\n",
              "    </tr>\n",
              "    <tr>\n",
              "      <th>5</th>\n",
              "      <td>angry</td>\n",
              "      <td>03-01-05-01-02-02-22.wav</td>\n",
              "    </tr>\n",
              "    <tr>\n",
              "      <th>6</th>\n",
              "      <td>happy</td>\n",
              "      <td>03-01-03-01-02-01-14.wav</td>\n",
              "    </tr>\n",
              "    <tr>\n",
              "      <th>7</th>\n",
              "      <td>disgust</td>\n",
              "      <td>03-01-07-02-02-02-06.wav</td>\n",
              "    </tr>\n",
              "    <tr>\n",
              "      <th>8</th>\n",
              "      <td>angry</td>\n",
              "      <td>03-01-03-02-01-01-11.wav</td>\n",
              "    </tr>\n",
              "    <tr>\n",
              "      <th>9</th>\n",
              "      <td>disgust</td>\n",
              "      <td>03-01-07-01-02-01-21.wav</td>\n",
              "    </tr>\n",
              "  </tbody>\n",
              "</table>\n",
              "</div>\n",
              "      <button class=\"colab-df-convert\" onclick=\"convertToInteractive('df-0300ee90-43c7-4bf2-8d8e-c7098953637c')\"\n",
              "              title=\"Convert this dataframe to an interactive table.\"\n",
              "              style=\"display:none;\">\n",
              "        \n",
              "  <svg xmlns=\"http://www.w3.org/2000/svg\" height=\"24px\"viewBox=\"0 0 24 24\"\n",
              "       width=\"24px\">\n",
              "    <path d=\"M0 0h24v24H0V0z\" fill=\"none\"/>\n",
              "    <path d=\"M18.56 5.44l.94 2.06.94-2.06 2.06-.94-2.06-.94-.94-2.06-.94 2.06-2.06.94zm-11 1L8.5 8.5l.94-2.06 2.06-.94-2.06-.94L8.5 2.5l-.94 2.06-2.06.94zm10 10l.94 2.06.94-2.06 2.06-.94-2.06-.94-.94-2.06-.94 2.06-2.06.94z\"/><path d=\"M17.41 7.96l-1.37-1.37c-.4-.4-.92-.59-1.43-.59-.52 0-1.04.2-1.43.59L10.3 9.45l-7.72 7.72c-.78.78-.78 2.05 0 2.83L4 21.41c.39.39.9.59 1.41.59.51 0 1.02-.2 1.41-.59l7.78-7.78 2.81-2.81c.8-.78.8-2.07 0-2.86zM5.41 20L4 18.59l7.72-7.72 1.47 1.35L5.41 20z\"/>\n",
              "  </svg>\n",
              "      </button>\n",
              "      \n",
              "  <style>\n",
              "    .colab-df-container {\n",
              "      display:flex;\n",
              "      flex-wrap:wrap;\n",
              "      gap: 12px;\n",
              "    }\n",
              "\n",
              "    .colab-df-convert {\n",
              "      background-color: #E8F0FE;\n",
              "      border: none;\n",
              "      border-radius: 50%;\n",
              "      cursor: pointer;\n",
              "      display: none;\n",
              "      fill: #1967D2;\n",
              "      height: 32px;\n",
              "      padding: 0 0 0 0;\n",
              "      width: 32px;\n",
              "    }\n",
              "\n",
              "    .colab-df-convert:hover {\n",
              "      background-color: #E2EBFA;\n",
              "      box-shadow: 0px 1px 2px rgba(60, 64, 67, 0.3), 0px 1px 3px 1px rgba(60, 64, 67, 0.15);\n",
              "      fill: #174EA6;\n",
              "    }\n",
              "\n",
              "    [theme=dark] .colab-df-convert {\n",
              "      background-color: #3B4455;\n",
              "      fill: #D2E3FC;\n",
              "    }\n",
              "\n",
              "    [theme=dark] .colab-df-convert:hover {\n",
              "      background-color: #434B5C;\n",
              "      box-shadow: 0px 1px 3px 1px rgba(0, 0, 0, 0.15);\n",
              "      filter: drop-shadow(0px 1px 2px rgba(0, 0, 0, 0.3));\n",
              "      fill: #FFFFFF;\n",
              "    }\n",
              "  </style>\n",
              "\n",
              "      <script>\n",
              "        const buttonEl =\n",
              "          document.querySelector('#df-0300ee90-43c7-4bf2-8d8e-c7098953637c button.colab-df-convert');\n",
              "        buttonEl.style.display =\n",
              "          google.colab.kernel.accessAllowed ? 'block' : 'none';\n",
              "\n",
              "        async function convertToInteractive(key) {\n",
              "          const element = document.querySelector('#df-0300ee90-43c7-4bf2-8d8e-c7098953637c');\n",
              "          const dataTable =\n",
              "            await google.colab.kernel.invokeFunction('convertToInteractive',\n",
              "                                                     [key], {});\n",
              "          if (!dataTable) return;\n",
              "\n",
              "          const docLinkHtml = 'Like what you see? Visit the ' +\n",
              "            '<a target=\"_blank\" href=https://colab.research.google.com/notebooks/data_table.ipynb>data table notebook</a>'\n",
              "            + ' to learn more about interactive tables.';\n",
              "          element.innerHTML = '';\n",
              "          dataTable['output_type'] = 'display_data';\n",
              "          await google.colab.output.renderOutput(dataTable, element);\n",
              "          const docLink = document.createElement('div');\n",
              "          docLink.innerHTML = docLinkHtml;\n",
              "          element.appendChild(docLink);\n",
              "        }\n",
              "      </script>\n",
              "    </div>\n",
              "  </div>\n",
              "  "
            ]
          },
          "metadata": {},
          "execution_count": 15
        }
      ]
    },
    {
      "cell_type": "code",
      "source": [
        "from sklearn.metrics import f1_score"
      ],
      "metadata": {
        "id": "OUDv2fF2x9QC"
      },
      "execution_count": null,
      "outputs": []
    },
    {
      "cell_type": "code",
      "source": [
        "f1_score(y_test, y_pred,average=None)"
      ],
      "metadata": {
        "colab": {
          "base_uri": "https://localhost:8080/"
        },
        "id": "QrdS7RqUyEDe",
        "outputId": "a1a7c4a6-d76d-4965-f5f5-454ce2e3482b"
      },
      "execution_count": null,
      "outputs": [
        {
          "output_type": "execute_result",
          "data": {
            "text/plain": [
              "array([0.78899083, 0.73529412, 0.33333333, 0.70886076])"
            ]
          },
          "metadata": {},
          "execution_count": 17
        }
      ]
    },
    {
      "cell_type": "code",
      "source": [
        "df=pd.DataFrame({'Actual': y_test, 'Predicted':y_pred})\n",
        "df.head(20)"
      ],
      "metadata": {
        "colab": {
          "base_uri": "https://localhost:8080/",
          "height": 676
        },
        "id": "9X_jV9BLyHXZ",
        "outputId": "9a74474f-c9f4-4f5e-b4f8-d45e2024fdb1"
      },
      "execution_count": null,
      "outputs": [
        {
          "output_type": "execute_result",
          "data": {
            "text/plain": [
              "     Actual Predicted\n",
              "0     happy     angry\n",
              "1   disgust     happy\n",
              "2      calm      calm\n",
              "3     angry     angry\n",
              "4   disgust      calm\n",
              "5     angry     angry\n",
              "6     happy     happy\n",
              "7   disgust   disgust\n",
              "8     happy     angry\n",
              "9   disgust   disgust\n",
              "10  disgust     angry\n",
              "11    happy     happy\n",
              "12  disgust      calm\n",
              "13    angry   disgust\n",
              "14     calm     happy\n",
              "15  disgust     angry\n",
              "16    happy     angry\n",
              "17    angry     angry\n",
              "18    angry     angry\n",
              "19  disgust      calm"
            ],
            "text/html": [
              "\n",
              "  <div id=\"df-ef1e3cef-24c1-4106-aabf-1e777ee26c6a\">\n",
              "    <div class=\"colab-df-container\">\n",
              "      <div>\n",
              "<style scoped>\n",
              "    .dataframe tbody tr th:only-of-type {\n",
              "        vertical-align: middle;\n",
              "    }\n",
              "\n",
              "    .dataframe tbody tr th {\n",
              "        vertical-align: top;\n",
              "    }\n",
              "\n",
              "    .dataframe thead th {\n",
              "        text-align: right;\n",
              "    }\n",
              "</style>\n",
              "<table border=\"1\" class=\"dataframe\">\n",
              "  <thead>\n",
              "    <tr style=\"text-align: right;\">\n",
              "      <th></th>\n",
              "      <th>Actual</th>\n",
              "      <th>Predicted</th>\n",
              "    </tr>\n",
              "  </thead>\n",
              "  <tbody>\n",
              "    <tr>\n",
              "      <th>0</th>\n",
              "      <td>happy</td>\n",
              "      <td>angry</td>\n",
              "    </tr>\n",
              "    <tr>\n",
              "      <th>1</th>\n",
              "      <td>disgust</td>\n",
              "      <td>happy</td>\n",
              "    </tr>\n",
              "    <tr>\n",
              "      <th>2</th>\n",
              "      <td>calm</td>\n",
              "      <td>calm</td>\n",
              "    </tr>\n",
              "    <tr>\n",
              "      <th>3</th>\n",
              "      <td>angry</td>\n",
              "      <td>angry</td>\n",
              "    </tr>\n",
              "    <tr>\n",
              "      <th>4</th>\n",
              "      <td>disgust</td>\n",
              "      <td>calm</td>\n",
              "    </tr>\n",
              "    <tr>\n",
              "      <th>5</th>\n",
              "      <td>angry</td>\n",
              "      <td>angry</td>\n",
              "    </tr>\n",
              "    <tr>\n",
              "      <th>6</th>\n",
              "      <td>happy</td>\n",
              "      <td>happy</td>\n",
              "    </tr>\n",
              "    <tr>\n",
              "      <th>7</th>\n",
              "      <td>disgust</td>\n",
              "      <td>disgust</td>\n",
              "    </tr>\n",
              "    <tr>\n",
              "      <th>8</th>\n",
              "      <td>happy</td>\n",
              "      <td>angry</td>\n",
              "    </tr>\n",
              "    <tr>\n",
              "      <th>9</th>\n",
              "      <td>disgust</td>\n",
              "      <td>disgust</td>\n",
              "    </tr>\n",
              "    <tr>\n",
              "      <th>10</th>\n",
              "      <td>disgust</td>\n",
              "      <td>angry</td>\n",
              "    </tr>\n",
              "    <tr>\n",
              "      <th>11</th>\n",
              "      <td>happy</td>\n",
              "      <td>happy</td>\n",
              "    </tr>\n",
              "    <tr>\n",
              "      <th>12</th>\n",
              "      <td>disgust</td>\n",
              "      <td>calm</td>\n",
              "    </tr>\n",
              "    <tr>\n",
              "      <th>13</th>\n",
              "      <td>angry</td>\n",
              "      <td>disgust</td>\n",
              "    </tr>\n",
              "    <tr>\n",
              "      <th>14</th>\n",
              "      <td>calm</td>\n",
              "      <td>happy</td>\n",
              "    </tr>\n",
              "    <tr>\n",
              "      <th>15</th>\n",
              "      <td>disgust</td>\n",
              "      <td>angry</td>\n",
              "    </tr>\n",
              "    <tr>\n",
              "      <th>16</th>\n",
              "      <td>happy</td>\n",
              "      <td>angry</td>\n",
              "    </tr>\n",
              "    <tr>\n",
              "      <th>17</th>\n",
              "      <td>angry</td>\n",
              "      <td>angry</td>\n",
              "    </tr>\n",
              "    <tr>\n",
              "      <th>18</th>\n",
              "      <td>angry</td>\n",
              "      <td>angry</td>\n",
              "    </tr>\n",
              "    <tr>\n",
              "      <th>19</th>\n",
              "      <td>disgust</td>\n",
              "      <td>calm</td>\n",
              "    </tr>\n",
              "  </tbody>\n",
              "</table>\n",
              "</div>\n",
              "      <button class=\"colab-df-convert\" onclick=\"convertToInteractive('df-ef1e3cef-24c1-4106-aabf-1e777ee26c6a')\"\n",
              "              title=\"Convert this dataframe to an interactive table.\"\n",
              "              style=\"display:none;\">\n",
              "        \n",
              "  <svg xmlns=\"http://www.w3.org/2000/svg\" height=\"24px\"viewBox=\"0 0 24 24\"\n",
              "       width=\"24px\">\n",
              "    <path d=\"M0 0h24v24H0V0z\" fill=\"none\"/>\n",
              "    <path d=\"M18.56 5.44l.94 2.06.94-2.06 2.06-.94-2.06-.94-.94-2.06-.94 2.06-2.06.94zm-11 1L8.5 8.5l.94-2.06 2.06-.94-2.06-.94L8.5 2.5l-.94 2.06-2.06.94zm10 10l.94 2.06.94-2.06 2.06-.94-2.06-.94-.94-2.06-.94 2.06-2.06.94z\"/><path d=\"M17.41 7.96l-1.37-1.37c-.4-.4-.92-.59-1.43-.59-.52 0-1.04.2-1.43.59L10.3 9.45l-7.72 7.72c-.78.78-.78 2.05 0 2.83L4 21.41c.39.39.9.59 1.41.59.51 0 1.02-.2 1.41-.59l7.78-7.78 2.81-2.81c.8-.78.8-2.07 0-2.86zM5.41 20L4 18.59l7.72-7.72 1.47 1.35L5.41 20z\"/>\n",
              "  </svg>\n",
              "      </button>\n",
              "      \n",
              "  <style>\n",
              "    .colab-df-container {\n",
              "      display:flex;\n",
              "      flex-wrap:wrap;\n",
              "      gap: 12px;\n",
              "    }\n",
              "\n",
              "    .colab-df-convert {\n",
              "      background-color: #E8F0FE;\n",
              "      border: none;\n",
              "      border-radius: 50%;\n",
              "      cursor: pointer;\n",
              "      display: none;\n",
              "      fill: #1967D2;\n",
              "      height: 32px;\n",
              "      padding: 0 0 0 0;\n",
              "      width: 32px;\n",
              "    }\n",
              "\n",
              "    .colab-df-convert:hover {\n",
              "      background-color: #E2EBFA;\n",
              "      box-shadow: 0px 1px 2px rgba(60, 64, 67, 0.3), 0px 1px 3px 1px rgba(60, 64, 67, 0.15);\n",
              "      fill: #174EA6;\n",
              "    }\n",
              "\n",
              "    [theme=dark] .colab-df-convert {\n",
              "      background-color: #3B4455;\n",
              "      fill: #D2E3FC;\n",
              "    }\n",
              "\n",
              "    [theme=dark] .colab-df-convert:hover {\n",
              "      background-color: #434B5C;\n",
              "      box-shadow: 0px 1px 3px 1px rgba(0, 0, 0, 0.15);\n",
              "      filter: drop-shadow(0px 1px 2px rgba(0, 0, 0, 0.3));\n",
              "      fill: #FFFFFF;\n",
              "    }\n",
              "  </style>\n",
              "\n",
              "      <script>\n",
              "        const buttonEl =\n",
              "          document.querySelector('#df-ef1e3cef-24c1-4106-aabf-1e777ee26c6a button.colab-df-convert');\n",
              "        buttonEl.style.display =\n",
              "          google.colab.kernel.accessAllowed ? 'block' : 'none';\n",
              "\n",
              "        async function convertToInteractive(key) {\n",
              "          const element = document.querySelector('#df-ef1e3cef-24c1-4106-aabf-1e777ee26c6a');\n",
              "          const dataTable =\n",
              "            await google.colab.kernel.invokeFunction('convertToInteractive',\n",
              "                                                     [key], {});\n",
              "          if (!dataTable) return;\n",
              "\n",
              "          const docLinkHtml = 'Like what you see? Visit the ' +\n",
              "            '<a target=\"_blank\" href=https://colab.research.google.com/notebooks/data_table.ipynb>data table notebook</a>'\n",
              "            + ' to learn more about interactive tables.';\n",
              "          element.innerHTML = '';\n",
              "          dataTable['output_type'] = 'display_data';\n",
              "          await google.colab.output.renderOutput(dataTable, element);\n",
              "          const docLink = document.createElement('div');\n",
              "          docLink.innerHTML = docLinkHtml;\n",
              "          element.appendChild(docLink);\n",
              "        }\n",
              "      </script>\n",
              "    </div>\n",
              "  </div>\n",
              "  "
            ]
          },
          "metadata": {},
          "execution_count": 18
        }
      ]
    },
    {
      "cell_type": "code",
      "source": [
        "import pickle\n",
        "# Writing different model files to file\n",
        "with open( 'modelForPrediction1.sav', 'wb') as f:\n",
        "    pickle.dump(model,f)"
      ],
      "metadata": {
        "id": "trvaJTzNyTO2"
      },
      "execution_count": null,
      "outputs": []
    },
    {
      "cell_type": "markdown",
      "source": [
        "**Test the model with any other data**"
      ],
      "metadata": {
        "id": "Nm_wtSNpgqN3"
      }
    },
    {
      "cell_type": "code",
      "source": [
        "filename = 'modelForPrediction1.sav'\n",
        "loaded_model = pickle.load(open(filename, 'rb')) # loading the model file from the storage\n",
        "\n",
        "feature=extract_feature(\"/content/drive/MyDrive/archive/03-01-02-01-01-01-10.wav\", mfcc=True, chroma=True, mel=True)\n",
        "\n",
        "feature=feature.reshape(1,-1)\n",
        "\n",
        "prediction=loaded_model.predict(feature)\n",
        "prediction"
      ],
      "metadata": {
        "colab": {
          "base_uri": "https://localhost:8080/"
        },
        "id": "tSNiCx-dyYB-",
        "outputId": "a1e6c53a-081c-423f-cfe5-5d6e1e0c4707"
      },
      "execution_count": null,
      "outputs": [
        {
          "output_type": "execute_result",
          "data": {
            "text/plain": [
              "array(['happy'], dtype='<U7')"
            ]
          },
          "metadata": {},
          "execution_count": 24
        }
      ]
    },
    {
      "cell_type": "code",
      "source": [
        "feature"
      ],
      "metadata": {
        "id": "2wXPUOPmy5Ni",
        "outputId": "cd42b40a-8bdc-45ae-aec5-7f2b902ed1ce",
        "colab": {
          "base_uri": "https://localhost:8080/"
        }
      },
      "execution_count": null,
      "outputs": [
        {
          "output_type": "execute_result",
          "data": {
            "text/plain": [
              "array([[-5.63782654e+02,  7.93052902e+01, -8.40268326e+00,\n",
              "         1.44333916e+01,  3.50221705e+00,  7.56285143e+00,\n",
              "        -1.66794987e+01,  2.37434530e+00, -1.39347830e+01,\n",
              "        -1.11347628e+01, -5.29616022e+00, -6.10221910e+00,\n",
              "         3.72483683e+00, -2.75351465e-01, -8.79493332e+00,\n",
              "         2.19395590e+00,  6.49870276e-01, -7.04361022e-01,\n",
              "        -1.45435357e+00, -3.60424161e-01, -8.76247287e-01,\n",
              "        -3.39200711e+00, -1.57573390e+00, -4.70921516e+00,\n",
              "        -6.90089846e+00, -1.67140424e+00, -3.52383542e+00,\n",
              "        -2.10166883e+00, -2.79078507e+00, -5.39135039e-01,\n",
              "        -4.93157089e-01, -2.76499414e+00, -1.10146737e+00,\n",
              "         2.85862041e+00,  2.15003037e+00,  2.78084731e+00,\n",
              "         5.33906269e+00,  4.35868311e+00,  2.98552799e+00,\n",
              "         4.62815428e+00,  5.60562730e-01,  5.33737123e-01,\n",
              "         5.95753789e-01,  5.95510423e-01,  6.14042521e-01,\n",
              "         6.47315025e-01,  6.77270591e-01,  6.81112826e-01,\n",
              "         6.72933936e-01,  6.91844821e-01,  6.67901695e-01,\n",
              "         6.38729990e-01,  7.21961114e-05,  1.63043151e-04,\n",
              "         1.47660699e-04,  2.22625298e-04,  3.05780806e-02,\n",
              "         3.24640512e-01,  6.64560914e-01,  4.55894530e-01,\n",
              "         1.84429720e-01,  3.58059630e-02,  2.47726701e-02,\n",
              "         9.83042717e-02,  9.79404747e-02,  1.80035532e-01,\n",
              "         2.82089293e-01,  2.49137178e-01,  1.01752654e-01,\n",
              "         7.46585354e-02,  4.68848012e-02,  9.08933431e-02,\n",
              "         1.64703161e-01,  1.32384613e-01,  2.80575138e-02,\n",
              "         1.04769347e-02,  3.94247053e-03,  9.17588454e-03,\n",
              "         2.15712786e-02,  7.39235654e-02,  1.59154773e-01,\n",
              "         3.21725346e-02,  6.82692742e-03,  2.47953250e-03,\n",
              "         5.07267890e-03,  4.42382274e-03,  5.74617088e-03,\n",
              "         8.65698233e-03,  3.43533675e-03,  2.67557590e-03,\n",
              "         4.28501377e-03,  3.50837200e-03,  4.05742973e-03,\n",
              "         2.49386439e-03,  3.35672125e-03,  8.79859366e-03,\n",
              "         7.46911392e-03,  5.64062828e-03,  2.69225030e-03,\n",
              "         9.63832904e-03,  9.17316042e-03,  6.83231838e-03,\n",
              "         1.41887076e-03,  3.33781843e-03,  6.01881882e-03,\n",
              "         1.88654184e-03,  4.60029900e-04,  3.45794891e-04,\n",
              "         5.05132368e-04,  4.78636503e-04,  7.27996521e-04,\n",
              "         9.31066170e-04,  6.56142423e-04,  1.28346623e-03,\n",
              "         1.03181624e-03,  1.61270006e-03,  7.31346081e-04,\n",
              "         6.09606679e-04,  4.99136746e-04,  4.71709209e-04,\n",
              "         5.56574145e-04,  8.29391705e-04,  7.54243752e-04,\n",
              "         4.41405544e-04,  3.60504375e-04,  2.92039884e-04,\n",
              "         1.55541973e-04,  2.67501338e-04,  5.92501834e-04,\n",
              "         1.74847769e-03,  1.18242356e-03,  1.08785543e-03,\n",
              "         1.45643705e-03,  8.94542085e-04,  8.12346116e-04,\n",
              "         6.78792654e-04,  2.81023909e-04,  2.27603960e-04,\n",
              "         3.09143710e-04,  2.57256645e-04,  2.07663790e-04,\n",
              "         2.23011652e-04,  1.54880894e-04,  9.35463322e-05,\n",
              "         2.76828039e-04,  2.38879220e-04,  1.78752263e-04,\n",
              "         1.50380627e-04,  1.26529660e-04,  1.27479812e-04,\n",
              "         1.86012141e-04,  1.99680522e-04,  2.75653030e-04,\n",
              "         2.04722091e-04,  2.34322957e-04,  2.37439614e-04,\n",
              "         1.87075580e-04,  1.58678857e-04,  1.30780070e-04,\n",
              "         1.04562838e-04,  7.15458445e-05,  5.96155260e-05,\n",
              "         8.37778571e-05,  6.36922050e-05,  3.52332281e-05,\n",
              "         3.37011588e-05,  2.60782545e-05,  3.78784789e-05,\n",
              "         1.70212024e-05,  1.26420155e-05,  6.72790293e-06,\n",
              "         5.19878813e-06,  4.03219792e-06,  2.20210813e-06,\n",
              "         1.09485575e-06,  1.04671403e-06,  7.38716665e-07,\n",
              "         4.06342281e-07,  4.34254339e-08,  1.34786031e-08]])"
            ]
          },
          "metadata": {},
          "execution_count": 25
        }
      ]
    },
    {
      "cell_type": "code",
      "source": [
        "filename = 'modelForPrediction1.sav'\n",
        "loaded_model = pickle.load(open(filename, 'rb')) # loading the model file from the storage\n",
        "\n",
        "feature=extract_feature(\"/content/drive/MyDrive/archive/03-01-01-01-01-01-01.wav\", mfcc=True, chroma=True, mel=True)\n",
        "\n",
        "feature=feature.reshape(1,-1)\n",
        "\n",
        "prediction=loaded_model.predict(feature)\n",
        "prediction"
      ],
      "metadata": {
        "colab": {
          "base_uri": "https://localhost:8080/"
        },
        "id": "WcCvdHAyysrA",
        "outputId": "a40d04ed-f1ae-4eea-f734-3e5f08336833"
      },
      "execution_count": null,
      "outputs": [
        {
          "output_type": "execute_result",
          "data": {
            "text/plain": [
              "array(['calm'], dtype='<U7')"
            ]
          },
          "metadata": {},
          "execution_count": 28
        }
      ]
    },
    {
      "cell_type": "code",
      "source": [
        "feature"
      ],
      "metadata": {
        "id": "cFGvnW2iy2Dt",
        "outputId": "8c64791b-1888-4496-9ae2-1b9438dc9a2d",
        "colab": {
          "base_uri": "https://localhost:8080/"
        }
      },
      "execution_count": null,
      "outputs": [
        {
          "output_type": "execute_result",
          "data": {
            "text/plain": [
              "array([[-7.26217224e+02,  6.85414200e+01,  3.29339767e+00,\n",
              "         1.22053003e+01,  5.51027775e+00,  1.36674099e+01,\n",
              "        -2.98382854e+00,  3.09802914e+00, -3.31081343e+00,\n",
              "        -1.56438446e+00, -7.86165237e+00, -2.12428164e+00,\n",
              "         2.84920406e+00, -2.66780639e+00,  9.59020197e-01,\n",
              "         1.62816656e+00, -2.73668885e+00,  2.54240990e-01,\n",
              "         2.67537737e+00, -1.76116550e+00, -1.88647425e+00,\n",
              "        -9.75619972e-01, -3.79437268e-01,  4.00272876e-01,\n",
              "        -3.04404378e+00, -2.90125823e+00, -1.09248057e-01,\n",
              "        -8.63565266e-01, -3.33326936e+00, -1.97846520e+00,\n",
              "         4.57081467e-01, -1.39910948e+00, -2.92685509e+00,\n",
              "         1.39567470e-02, -4.90733683e-01, -5.70905447e-01,\n",
              "         4.03992198e-02, -1.20721745e+00, -1.59498155e+00,\n",
              "        -1.43648744e+00,  7.62991130e-01,  7.86087215e-01,\n",
              "         7.68469393e-01,  7.68762171e-01,  7.73639500e-01,\n",
              "         7.66558707e-01,  7.70558536e-01,  7.64969945e-01,\n",
              "         7.80013800e-01,  7.60865748e-01,  7.59408653e-01,\n",
              "         7.33647168e-01,  1.70184212e-05,  1.43234653e-03,\n",
              "         1.66232847e-02,  2.62569860e-02,  1.57336369e-02,\n",
              "         1.05670653e-02,  2.14492250e-02,  2.17550304e-02,\n",
              "         2.05241740e-02,  9.86292399e-03,  8.22031125e-03,\n",
              "         1.38155846e-02,  3.34110372e-02,  4.01227549e-02,\n",
              "         1.25717418e-02,  1.35526331e-02,  3.40261199e-02,\n",
              "         1.37796523e-02,  2.77529773e-03,  9.25028324e-03,\n",
              "         1.48122311e-02,  5.43776574e-03,  9.91153182e-04,\n",
              "         7.88527133e-04,  4.98540059e-04,  2.36146851e-04,\n",
              "         2.03896270e-04,  4.22207202e-04,  8.26913223e-04,\n",
              "         6.62424893e-04,  4.39797383e-04,  3.11295822e-04,\n",
              "         1.14664016e-03,  1.43222138e-03,  1.61550543e-03,\n",
              "         3.58627853e-03,  3.50482157e-03,  8.57215084e-04,\n",
              "         4.91613639e-04,  7.60273193e-04,  5.63600508e-04,\n",
              "         5.85349975e-04,  8.84277280e-04,  7.15176866e-04,\n",
              "         9.82289203e-04,  8.90352181e-04,  6.28136040e-04,\n",
              "         4.47051745e-04,  2.92379642e-04,  5.14131738e-04,\n",
              "         1.10657711e-03,  2.22560164e-04,  6.83896869e-05,\n",
              "         1.24022758e-04,  1.07517837e-04,  1.23518999e-04,\n",
              "         3.63318715e-04,  6.13193959e-04,  6.27402507e-04,\n",
              "         4.34549962e-04,  2.04562399e-04,  9.27749570e-05,\n",
              "         1.01075944e-04,  8.67173439e-05,  1.27217951e-04,\n",
              "         1.77796552e-04,  2.18185785e-04,  2.90769734e-04,\n",
              "         3.48016649e-04,  4.02505015e-04,  1.25046136e-04,\n",
              "         4.22618214e-05,  1.25949209e-05,  1.61569042e-05,\n",
              "         2.32865605e-05,  3.98043667e-05,  4.68669023e-05,\n",
              "         6.37071644e-05,  7.95239539e-05,  5.19483910e-05,\n",
              "         4.76786081e-05,  2.58715609e-05,  2.53992148e-05,\n",
              "         3.65142405e-05,  2.80895474e-05,  1.78097634e-05,\n",
              "         1.21044968e-05,  7.88786929e-06,  5.45318426e-06,\n",
              "         4.09992936e-06,  4.18907575e-06,  4.63753258e-06,\n",
              "         6.42819941e-06,  4.40653048e-06,  2.40225859e-06,\n",
              "         2.55696978e-06,  2.89846184e-06,  3.04017703e-06,\n",
              "         2.17823958e-06,  1.52357291e-06,  3.67811458e-06,\n",
              "         5.99873329e-06,  6.09255312e-06,  4.97983910e-06,\n",
              "         3.50488745e-06,  3.28653141e-06,  3.40272868e-06,\n",
              "         2.15000841e-06,  2.06826053e-06,  1.92395942e-06,\n",
              "         1.56269584e-06,  1.15564808e-06,  1.23618884e-06,\n",
              "         2.17852858e-06,  1.34196227e-06,  8.75932813e-07,\n",
              "         7.71947100e-07,  5.42804798e-07,  3.79851457e-07,\n",
              "         2.65911808e-07,  1.35898972e-07,  6.42145039e-08,\n",
              "         4.12492334e-08,  2.83807786e-08,  2.31362645e-08,\n",
              "         1.16047607e-08,  5.81790038e-09,  5.36213385e-09]])"
            ]
          },
          "metadata": {},
          "execution_count": 29
        }
      ]
    }
  ]
}